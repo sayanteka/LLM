{
  "nbformat": 4,
  "nbformat_minor": 0,
  "metadata": {
    "colab": {
      "provenance": []
    },
    "kernelspec": {
      "name": "python3",
      "display_name": "Python 3"
    },
    "language_info": {
      "name": "python"
    }
  },
  "cells": [
    {
      "cell_type": "code",
      "execution_count": null,
      "metadata": {
        "id": "mAN-2ZwFsTdi"
      },
      "outputs": [],
      "source": [
        "import asyncio\n",
        "import aiohttp\n",
        "import time\n",
        "from urllib.parse import urljoin\n",
        "\n",
        "class RateLimiter:\n",
        "    def __init__(self, max_requests, interval):\n",
        "        self.max_requests = max_requests\n",
        "        self.interval = interval\n",
        "        self.requests = 0\n",
        "        self.last_request_time = time.time()\n",
        "\n",
        "    async def allow_request(self):\n",
        "        now = time.time()\n",
        "        if now - self.last_request_time > self.interval:\n",
        "            self.requests = 0\n",
        "            self.last_request_time = now\n",
        "        if self.requests < self.max_requests:\n",
        "            self.requests += 1\n",
        "            return True\n",
        "        return False\n",
        "\n",
        "async def generate_subfolder_url(parent_url, subfolder_id):\n",
        "    return urljoin(parent_url, f'{subfolder_id}/')\n",
        "\n",
        "async def fetch_url(session, url, limiter):\n",
        "    allowed = await limiter.allow_request()\n",
        "    if allowed:\n",
        "        async with session.get(url) as response:\n",
        "            return await response.json()\n",
        "    else:\n",
        "        print(\"Rate limit exceeded. Waiting...\")\n",
        "        await asyncio.sleep(1)  # Example: Wait for a second before retrying\n",
        "        return await fetch_url(session, url, limiter)  # Retry recursively\n",
        "\n",
        "async def fetch_folder_contents(session, folder_url, limiter):\n",
        "    results = []\n",
        "    contents = await fetch_url(session, folder_url, limiter)\n",
        "\n",
        "    for item in contents['items']:\n",
        "        if item['type'] == 'file':\n",
        "            file_url = urljoin(folder_url, item['name'])\n",
        "            results.append(await fetch_url(session, file_url, limiter))\n",
        "        elif item['type'] == 'folder':\n",
        "            subfolder_url = await generate_subfolder_url(folder_url, item['id'])\n",
        "            results.extend(await fetch_folder_contents(session, subfolder_url, limiter))\n",
        "\n",
        "    return results\n",
        "\n",
        "async def main():\n",
        "    base_url = 'https://api.example.com/'\n",
        "    initial_folder = 'root_folder'\n",
        "    limiter = RateLimiter(max_requests=5, interval=1)  # Rate limit: 5 requests per second\n",
        "\n",
        "    async with aiohttp.ClientSession() as session:\n",
        "        initial_folder_url = urljoin(base_url, initial_folder)\n",
        "        results = await fetch_folder_contents(session, initial_folder_url, limiter)\n",
        "        print(results)  # Process or store the fetched results as needed\n",
        "\n",
        "asyncio.run(main())\n"
      ]
    }
  ]
}
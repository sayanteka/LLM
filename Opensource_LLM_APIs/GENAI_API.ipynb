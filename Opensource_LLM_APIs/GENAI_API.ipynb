{
  "nbformat": 4,
  "nbformat_minor": 0,
  "metadata": {
    "colab": {
      "provenance": []
    },
    "kernelspec": {
      "name": "python3",
      "display_name": "Python 3"
    },
    "language_info": {
      "name": "python"
    }
  },
  "cells": [
    {
      "cell_type": "markdown",
      "source": [
        "**Gemma-7b**"
      ],
      "metadata": {
        "id": "vX1nric6DzS3"
      }
    },
    {
      "cell_type": "code",
      "execution_count": 1,
      "metadata": {
        "id": "WU2IeSK41Vo3"
      },
      "outputs": [],
      "source": [
        "from google.colab import userdata\n",
        "API_TOKEN=userdata.get('HUGGINGFACE_TOKEN')"
      ]
    },
    {
      "cell_type": "code",
      "source": [
        "import requests\n",
        "api_url_gemma=\"https://api-inference.huggingface.co/models/google/gemma-7b\"\n",
        "\n"
      ],
      "metadata": {
        "id": "FgFymJ-sCw_L"
      },
      "execution_count": 2,
      "outputs": []
    },
    {
      "cell_type": "code",
      "source": [
        "headers = {\"Authorization\": f\"Bearer {API_TOKEN}\"}"
      ],
      "metadata": {
        "id": "jOAt6OAsDJMk"
      },
      "execution_count": 3,
      "outputs": []
    },
    {
      "cell_type": "code",
      "source": [
        "def query(payload):\n",
        "  response=requests.post(api_url_gemma,headers=headers,json=payload)\n",
        "  print(response)\n",
        "  return response.json()"
      ],
      "metadata": {
        "id": "w_rVRLK3DMB8"
      },
      "execution_count": 4,
      "outputs": []
    },
    {
      "cell_type": "code",
      "source": [
        "question={\n",
        "\t\"inputs\": \"can you let me about the capital of india\",\n",
        "}"
      ],
      "metadata": {
        "id": "PI20mEAvDT21"
      },
      "execution_count": 5,
      "outputs": []
    },
    {
      "cell_type": "code",
      "source": [
        "output = query(question)"
      ],
      "metadata": {
        "colab": {
          "base_uri": "https://localhost:8080/"
        },
        "id": "onzQy68xDXGh",
        "outputId": "1639c742-2ee3-41e8-85bf-86865c0b6da0"
      },
      "execution_count": 6,
      "outputs": [
        {
          "output_type": "stream",
          "name": "stdout",
          "text": [
            "<Response [200]>\n"
          ]
        }
      ]
    },
    {
      "cell_type": "code",
      "source": [
        "print(output)"
      ],
      "metadata": {
        "colab": {
          "base_uri": "https://localhost:8080/"
        },
        "id": "tE6dwgYrDa7v",
        "outputId": "ea4ed3ce-67bd-4c36-a4da-eed0df0424ad"
      },
      "execution_count": 7,
      "outputs": [
        {
          "output_type": "stream",
          "name": "stdout",
          "text": [
            "[{'generated_text': 'can you let me about the capital of india is located there i you have to give reasonable answer Thanks in advance......Please don’t spam I want correct answer\\n\\nAnswer:\\n{\"answer_steps\": [\"India\\'s capital is located in New Delhi. \", \"New Delhi is located in the National Capital Territory of New Delhi.\"]}'}]\n"
          ]
        }
      ]
    },
    {
      "cell_type": "markdown",
      "source": [
        "**Mistral 7B**"
      ],
      "metadata": {
        "id": "CWJFWQF2E8L-"
      }
    },
    {
      "cell_type": "code",
      "source": [
        "api_mistral=\"https://api-inference.huggingface.co/models/mistralai/Mistral-7B-v0.1\""
      ],
      "metadata": {
        "id": "TJ4JDmEaD8Kn"
      },
      "execution_count": 8,
      "outputs": []
    },
    {
      "cell_type": "code",
      "source": [
        "def query(payload):\n",
        "  response=requests.post(api_mistral,headers=headers,json=payload)\n",
        "  print(response)\n",
        "  return response.json()"
      ],
      "metadata": {
        "id": "Z4GDqbTVEHut"
      },
      "execution_count": 9,
      "outputs": []
    },
    {
      "cell_type": "code",
      "source": [
        "output_mistral = query(question)"
      ],
      "metadata": {
        "colab": {
          "base_uri": "https://localhost:8080/"
        },
        "id": "lak4yH9fEx_Z",
        "outputId": "f9fde74c-0765-4ccc-ee64-6ffc126b25b3"
      },
      "execution_count": 15,
      "outputs": [
        {
          "output_type": "stream",
          "name": "stdout",
          "text": [
            "<Response [200]>\n"
          ]
        }
      ]
    },
    {
      "cell_type": "code",
      "source": [
        "print(output_mistral[0]['generated_text'])"
      ],
      "metadata": {
        "colab": {
          "base_uri": "https://localhost:8080/"
        },
        "id": "yJTXga7WEh-H",
        "outputId": "d2640158-5d19-48e4-f176-ea4f06dba064"
      },
      "execution_count": 16,
      "outputs": [
        {
          "output_type": "stream",
          "name": "stdout",
          "text": [
            "can you let me about the capital of india?\n",
            "\n",
            "http://en.wikipedia.org/wiki/New_Delhi\n",
            "New Delhi is the capital of India\n",
            "\n",
            "New Delhi is populated by hundreds of individuals who speak English as their first language. As a result, English is the most common language heard in New Delhi.\n",
            "\n",
            "This answer is:\n",
            "50%\n",
            "- AwesomeThanks for the response.\n",
            "\n",
            "AwesomeThanks for the response.\n"
          ]
        }
      ]
    },
    {
      "cell_type": "markdown",
      "source": [
        "**zephyr-7b-beta**"
      ],
      "metadata": {
        "id": "vxK-4WC0Fr-J"
      }
    },
    {
      "cell_type": "code",
      "source": [
        "api_zephyr=\"https://api-inference.huggingface.co/models/HuggingFaceH4/zephyr-7b-beta\"\n",
        "def query(payload):\n",
        "  response=requests.post(api_zephyr,headers=headers,json=payload)\n",
        "  print(response)\n",
        "  return response.json()\n",
        "\n",
        "output_zephyr= query(question)\n",
        "print(output_zephyr[0]['generated_text'])\n"
      ],
      "metadata": {
        "colab": {
          "base_uri": "https://localhost:8080/"
        },
        "id": "PXaXveTDFIIs",
        "outputId": "fa02c502-5371-4054-8d62-1e260971cbdf"
      },
      "execution_count": 18,
      "outputs": [
        {
          "output_type": "stream",
          "name": "stdout",
          "text": [
            "<Response [200]>\n",
            "can you let me about the capital of india?\n",
            "www.thingsasiangotowed.org - Despite the efforts of the Department of National Parks (DNP), Wildlife Conservation Division (WCD), concerned U NOs and NGOs and the public, forest encroachments and land grabs by powerful vested interests are taking place at an alarming rate in the North Andaman Island, which is part of the Andaman and Nicobar Islands.\n",
            "The Andaman administration consists of the Lt\n"
          ]
        }
      ]
    },
    {
      "cell_type": "markdown",
      "source": [
        "**Gemini API**"
      ],
      "metadata": {
        "id": "HtclgXAXH9Vl"
      }
    },
    {
      "cell_type": "markdown",
      "source": [
        "https://accounts.google.com/InteractiveLogin/signinchooser?continue=https%3A%2F%2Faistudio.google.com%2Fapp%2Fapikey&followup=https%3A%2F%2Faistudio.google.com%2Fapp%2Fapikey&passive=1209600&ifkv=ARZ0qKIj0vzXVdZU_Lu_O7DohmHajI9QpPuxx03yQBAP4JuoUoOurm9Y4NeVmWdpRHHSyzf9976jfw&theme=mn&ddm=0&flowName=GlifWebSignIn&flowEntry=ServiceLogin\n",
        "\n",
        "Google API Key Generation: Free Service( only 60 queries per minute)"
      ],
      "metadata": {
        "id": "Uu_bgKNTJ3ro"
      }
    },
    {
      "cell_type": "code",
      "source": [
        "from google.colab import userdata\n",
        "API_TOKEN_Google=userdata.get('Google_key')"
      ],
      "metadata": {
        "id": "YxovIO_lHSl-"
      },
      "execution_count": 21,
      "outputs": []
    },
    {
      "cell_type": "code",
      "source": [
        "import google.generativeai as genai\n",
        "genai.configure(api_key=API_TOKEN_Google)"
      ],
      "metadata": {
        "id": "10ps8sDMH2Bi"
      },
      "execution_count": 22,
      "outputs": []
    },
    {
      "cell_type": "code",
      "source": [
        "for models in genai.list_models():\n",
        "  print(models)"
      ],
      "metadata": {
        "colab": {
          "base_uri": "https://localhost:8080/",
          "height": 1000
        },
        "id": "5ymN9yOOILI6",
        "outputId": "d9893e69-e678-49e7-b581-8b56d5eb56a0"
      },
      "execution_count": 23,
      "outputs": [
        {
          "output_type": "stream",
          "name": "stdout",
          "text": [
            "Model(name='models/chat-bison-001',\n",
            "      base_model_id='',\n",
            "      version='001',\n",
            "      display_name='PaLM 2 Chat (Legacy)',\n",
            "      description='A legacy text-only model optimized for chat conversations',\n",
            "      input_token_limit=4096,\n",
            "      output_token_limit=1024,\n",
            "      supported_generation_methods=['generateMessage', 'countMessageTokens'],\n",
            "      temperature=0.25,\n",
            "      top_p=0.95,\n",
            "      top_k=40)\n",
            "Model(name='models/text-bison-001',\n",
            "      base_model_id='',\n",
            "      version='001',\n",
            "      display_name='PaLM 2 (Legacy)',\n",
            "      description='A legacy model that understands text and generates text as an output',\n",
            "      input_token_limit=8196,\n",
            "      output_token_limit=1024,\n",
            "      supported_generation_methods=['generateText', 'countTextTokens', 'createTunedTextModel'],\n",
            "      temperature=0.7,\n",
            "      top_p=0.95,\n",
            "      top_k=40)\n",
            "Model(name='models/embedding-gecko-001',\n",
            "      base_model_id='',\n",
            "      version='001',\n",
            "      display_name='Embedding Gecko',\n",
            "      description='Obtain a distributed representation of a text.',\n",
            "      input_token_limit=1024,\n",
            "      output_token_limit=1,\n",
            "      supported_generation_methods=['embedText', 'countTextTokens'],\n",
            "      temperature=None,\n",
            "      top_p=None,\n",
            "      top_k=None)\n",
            "Model(name='models/gemini-1.0-pro',\n",
            "      base_model_id='',\n",
            "      version='001',\n",
            "      display_name='Gemini 1.0 Pro',\n",
            "      description='The best model for scaling across a wide range of tasks',\n",
            "      input_token_limit=30720,\n",
            "      output_token_limit=2048,\n",
            "      supported_generation_methods=['generateContent', 'countTokens'],\n",
            "      temperature=0.9,\n",
            "      top_p=1.0,\n",
            "      top_k=1)\n",
            "Model(name='models/gemini-1.0-pro-001',\n",
            "      base_model_id='',\n",
            "      version='001',\n",
            "      display_name='Gemini 1.0 Pro 001 (Tuning)',\n",
            "      description=('The best model for scaling across a wide range of tasks. This is a stable '\n",
            "                   'model that supports tuning.'),\n",
            "      input_token_limit=30720,\n",
            "      output_token_limit=2048,\n",
            "      supported_generation_methods=['generateContent', 'countTokens', 'createTunedModel'],\n",
            "      temperature=0.9,\n",
            "      top_p=1.0,\n",
            "      top_k=1)\n",
            "Model(name='models/gemini-1.0-pro-latest',\n",
            "      base_model_id='',\n",
            "      version='001',\n",
            "      display_name='Gemini 1.0 Pro Latest',\n",
            "      description=('The best model for scaling across a wide range of tasks. This is the latest '\n",
            "                   'model.'),\n",
            "      input_token_limit=30720,\n",
            "      output_token_limit=2048,\n",
            "      supported_generation_methods=['generateContent', 'countTokens'],\n",
            "      temperature=0.9,\n",
            "      top_p=1.0,\n",
            "      top_k=1)\n",
            "Model(name='models/gemini-1.0-pro-vision-latest',\n",
            "      base_model_id='',\n",
            "      version='001',\n",
            "      display_name='Gemini 1.0 Pro Vision',\n",
            "      description='The best image understanding model to handle a broad range of applications',\n",
            "      input_token_limit=12288,\n",
            "      output_token_limit=4096,\n",
            "      supported_generation_methods=['generateContent', 'countTokens'],\n",
            "      temperature=0.4,\n",
            "      top_p=1.0,\n",
            "      top_k=32)\n",
            "Model(name='models/gemini-pro',\n",
            "      base_model_id='',\n",
            "      version='001',\n",
            "      display_name='Gemini 1.0 Pro',\n",
            "      description='The best model for scaling across a wide range of tasks',\n",
            "      input_token_limit=30720,\n",
            "      output_token_limit=2048,\n",
            "      supported_generation_methods=['generateContent', 'countTokens'],\n",
            "      temperature=0.9,\n",
            "      top_p=1.0,\n",
            "      top_k=1)\n",
            "Model(name='models/gemini-pro-vision',\n",
            "      base_model_id='',\n",
            "      version='001',\n",
            "      display_name='Gemini 1.0 Pro Vision',\n",
            "      description='The best image understanding model to handle a broad range of applications',\n",
            "      input_token_limit=12288,\n",
            "      output_token_limit=4096,\n",
            "      supported_generation_methods=['generateContent', 'countTokens'],\n",
            "      temperature=0.4,\n",
            "      top_p=1.0,\n",
            "      top_k=32)\n",
            "Model(name='models/embedding-001',\n",
            "      base_model_id='',\n",
            "      version='001',\n",
            "      display_name='Embedding 001',\n",
            "      description='Obtain a distributed representation of a text.',\n",
            "      input_token_limit=2048,\n",
            "      output_token_limit=1,\n",
            "      supported_generation_methods=['embedContent'],\n",
            "      temperature=None,\n",
            "      top_p=None,\n",
            "      top_k=None)\n",
            "Model(name='models/aqa',\n",
            "      base_model_id='',\n",
            "      version='001',\n",
            "      display_name='Model that performs Attributed Question Answering.',\n",
            "      description=('Model trained to return answers to questions that are grounded in provided '\n",
            "                   'sources, along with estimating answerable probability.'),\n",
            "      input_token_limit=7168,\n",
            "      output_token_limit=1024,\n",
            "      supported_generation_methods=['generateAnswer'],\n",
            "      temperature=0.2,\n",
            "      top_p=1.0,\n",
            "      top_k=40)\n"
          ]
        }
      ]
    },
    {
      "cell_type": "code",
      "source": [
        "for models in genai.list_models():\n",
        "  if \"generateContent\" in models.supported_generation_methods:\n",
        "    print(models.name)"
      ],
      "metadata": {
        "colab": {
          "base_uri": "https://localhost:8080/",
          "height": 126
        },
        "id": "PhxfohEcIRd6",
        "outputId": "99c0b83b-8c02-4424-8078-e6e9865f35c3"
      },
      "execution_count": 24,
      "outputs": [
        {
          "output_type": "stream",
          "name": "stdout",
          "text": [
            "models/gemini-1.0-pro\n",
            "models/gemini-1.0-pro-001\n",
            "models/gemini-1.0-pro-latest\n",
            "models/gemini-1.0-pro-vision-latest\n",
            "models/gemini-pro\n",
            "models/gemini-pro-vision\n"
          ]
        }
      ]
    },
    {
      "cell_type": "code",
      "source": [
        "model=genai.GenerativeModel(\"gemini-1.0-pro\")"
      ],
      "metadata": {
        "id": "_Hi6k_yoI2qS"
      },
      "execution_count": 25,
      "outputs": []
    },
    {
      "cell_type": "code",
      "source": [
        "response=model.generate_content(\"what is the capital of india\")"
      ],
      "metadata": {
        "id": "DibQXNY5I9hL"
      },
      "execution_count": 26,
      "outputs": []
    },
    {
      "cell_type": "code",
      "source": [
        "print(response.text)"
      ],
      "metadata": {
        "colab": {
          "base_uri": "https://localhost:8080/"
        },
        "id": "T3w33bYJJG0V",
        "outputId": "ad553fce-97d0-44de-8516-53825c901d86"
      },
      "execution_count": 27,
      "outputs": [
        {
          "output_type": "stream",
          "name": "stdout",
          "text": [
            "New Delhi\n"
          ]
        }
      ]
    },
    {
      "cell_type": "code",
      "source": [
        "response.candidates"
      ],
      "metadata": {
        "colab": {
          "base_uri": "https://localhost:8080/"
        },
        "id": "EokDkZVxJsEK",
        "outputId": "6e4d5a7a-8b3f-4d61-c349-24ad7b2dde6e"
      },
      "execution_count": 28,
      "outputs": [
        {
          "output_type": "execute_result",
          "data": {
            "text/plain": [
              "[content {\n",
              "  parts {\n",
              "    text: \"New Delhi\"\n",
              "  }\n",
              "  role: \"model\"\n",
              "}\n",
              "finish_reason: STOP\n",
              "index: 0\n",
              "safety_ratings {\n",
              "  category: HARM_CATEGORY_SEXUALLY_EXPLICIT\n",
              "  probability: NEGLIGIBLE\n",
              "}\n",
              "safety_ratings {\n",
              "  category: HARM_CATEGORY_HATE_SPEECH\n",
              "  probability: NEGLIGIBLE\n",
              "}\n",
              "safety_ratings {\n",
              "  category: HARM_CATEGORY_HARASSMENT\n",
              "  probability: NEGLIGIBLE\n",
              "}\n",
              "safety_ratings {\n",
              "  category: HARM_CATEGORY_DANGEROUS_CONTENT\n",
              "  probability: NEGLIGIBLE\n",
              "}\n",
              "]"
            ]
          },
          "metadata": {},
          "execution_count": 28
        }
      ]
    },
    {
      "cell_type": "code",
      "source": [
        "response.parts[0]"
      ],
      "metadata": {
        "colab": {
          "base_uri": "https://localhost:8080/"
        },
        "id": "OJ4jcCAnJvoX",
        "outputId": "fe69206a-e818-4f58-8189-2643895f3b3c"
      },
      "execution_count": 29,
      "outputs": [
        {
          "output_type": "execute_result",
          "data": {
            "text/plain": [
              "text: \"New Delhi\""
            ]
          },
          "metadata": {},
          "execution_count": 29
        }
      ]
    }
  ]
}